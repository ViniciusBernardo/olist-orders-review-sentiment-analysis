{
 "cells": [
  {
   "cell_type": "code",
   "execution_count": 1,
   "metadata": {},
   "outputs": [
    {
     "data": {
      "text/html": [
       "<div>\n",
       "<style scoped>\n",
       "    .dataframe tbody tr th:only-of-type {\n",
       "        vertical-align: middle;\n",
       "    }\n",
       "\n",
       "    .dataframe tbody tr th {\n",
       "        vertical-align: top;\n",
       "    }\n",
       "\n",
       "    .dataframe thead th {\n",
       "        text-align: right;\n",
       "    }\n",
       "</style>\n",
       "<table border=\"1\" class=\"dataframe\">\n",
       "  <thead>\n",
       "    <tr style=\"text-align: right;\">\n",
       "      <th></th>\n",
       "      <th>order_id</th>\n",
       "      <th>review_score</th>\n",
       "      <th>review_comment_title</th>\n",
       "      <th>review_comment_message</th>\n",
       "      <th>review_creation_date</th>\n",
       "      <th>review_answer_timestamp</th>\n",
       "    </tr>\n",
       "    <tr>\n",
       "      <th>review_id</th>\n",
       "      <th></th>\n",
       "      <th></th>\n",
       "      <th></th>\n",
       "      <th></th>\n",
       "      <th></th>\n",
       "      <th></th>\n",
       "    </tr>\n",
       "  </thead>\n",
       "  <tbody>\n",
       "    <tr>\n",
       "      <th>7bc2406110b926393aa56f80a40eba40</th>\n",
       "      <td>73fc7af87114b39712e6da79b0a377eb</td>\n",
       "      <td>4</td>\n",
       "      <td>NaN</td>\n",
       "      <td>NaN</td>\n",
       "      <td>2018-01-18 00:00:00</td>\n",
       "      <td>2018-01-18 21:46:59</td>\n",
       "    </tr>\n",
       "    <tr>\n",
       "      <th>80e641a11e56f04c1ad469d5645fdfde</th>\n",
       "      <td>a548910a1c6147796b98fdf73dbeba33</td>\n",
       "      <td>5</td>\n",
       "      <td>NaN</td>\n",
       "      <td>NaN</td>\n",
       "      <td>2018-03-10 00:00:00</td>\n",
       "      <td>2018-03-11 03:05:13</td>\n",
       "    </tr>\n",
       "    <tr>\n",
       "      <th>228ce5500dc1d8e020d8d1322874b6f0</th>\n",
       "      <td>f9e4b658b201a9f2ecdecbb34bed034b</td>\n",
       "      <td>5</td>\n",
       "      <td>NaN</td>\n",
       "      <td>NaN</td>\n",
       "      <td>2018-02-17 00:00:00</td>\n",
       "      <td>2018-02-18 14:36:24</td>\n",
       "    </tr>\n",
       "    <tr>\n",
       "      <th>e64fb393e7b32834bb789ff8bb30750e</th>\n",
       "      <td>658677c97b385a9be170737859d3511b</td>\n",
       "      <td>5</td>\n",
       "      <td>NaN</td>\n",
       "      <td>Recebi bem antes do prazo estipulado.</td>\n",
       "      <td>2017-04-21 00:00:00</td>\n",
       "      <td>2017-04-21 22:02:06</td>\n",
       "    </tr>\n",
       "    <tr>\n",
       "      <th>f7c4243c7fe1938f181bec41a392bdeb</th>\n",
       "      <td>8e6bfb81e283fa7e4f11123a3fb894f1</td>\n",
       "      <td>5</td>\n",
       "      <td>NaN</td>\n",
       "      <td>Parabéns lojas lannister adorei comprar pela I...</td>\n",
       "      <td>2018-03-01 00:00:00</td>\n",
       "      <td>2018-03-02 10:26:53</td>\n",
       "    </tr>\n",
       "  </tbody>\n",
       "</table>\n",
       "</div>"
      ],
      "text/plain": [
       "                                                          order_id  \\\n",
       "review_id                                                            \n",
       "7bc2406110b926393aa56f80a40eba40  73fc7af87114b39712e6da79b0a377eb   \n",
       "80e641a11e56f04c1ad469d5645fdfde  a548910a1c6147796b98fdf73dbeba33   \n",
       "228ce5500dc1d8e020d8d1322874b6f0  f9e4b658b201a9f2ecdecbb34bed034b   \n",
       "e64fb393e7b32834bb789ff8bb30750e  658677c97b385a9be170737859d3511b   \n",
       "f7c4243c7fe1938f181bec41a392bdeb  8e6bfb81e283fa7e4f11123a3fb894f1   \n",
       "\n",
       "                                  review_score review_comment_title  \\\n",
       "review_id                                                             \n",
       "7bc2406110b926393aa56f80a40eba40             4                  NaN   \n",
       "80e641a11e56f04c1ad469d5645fdfde             5                  NaN   \n",
       "228ce5500dc1d8e020d8d1322874b6f0             5                  NaN   \n",
       "e64fb393e7b32834bb789ff8bb30750e             5                  NaN   \n",
       "f7c4243c7fe1938f181bec41a392bdeb             5                  NaN   \n",
       "\n",
       "                                                             review_comment_message  \\\n",
       "review_id                                                                             \n",
       "7bc2406110b926393aa56f80a40eba40                                                NaN   \n",
       "80e641a11e56f04c1ad469d5645fdfde                                                NaN   \n",
       "228ce5500dc1d8e020d8d1322874b6f0                                                NaN   \n",
       "e64fb393e7b32834bb789ff8bb30750e              Recebi bem antes do prazo estipulado.   \n",
       "f7c4243c7fe1938f181bec41a392bdeb  Parabéns lojas lannister adorei comprar pela I...   \n",
       "\n",
       "                                 review_creation_date review_answer_timestamp  \n",
       "review_id                                                                      \n",
       "7bc2406110b926393aa56f80a40eba40  2018-01-18 00:00:00     2018-01-18 21:46:59  \n",
       "80e641a11e56f04c1ad469d5645fdfde  2018-03-10 00:00:00     2018-03-11 03:05:13  \n",
       "228ce5500dc1d8e020d8d1322874b6f0  2018-02-17 00:00:00     2018-02-18 14:36:24  \n",
       "e64fb393e7b32834bb789ff8bb30750e  2017-04-21 00:00:00     2017-04-21 22:02:06  \n",
       "f7c4243c7fe1938f181bec41a392bdeb  2018-03-01 00:00:00     2018-03-02 10:26:53  "
      ]
     },
     "execution_count": 1,
     "metadata": {},
     "output_type": "execute_result"
    }
   ],
   "source": [
    "import pandas as pd\n",
    "\n",
    "df = pd.read_csv('olist_order_reviews_dataset.csv', index_col='review_id')\n",
    "\n",
    "df.head()"
   ]
  },
  {
   "cell_type": "markdown",
   "metadata": {},
   "source": [
    "# Exploratory Data Analysis"
   ]
  },
  {
   "cell_type": "code",
   "execution_count": 2,
   "metadata": {},
   "outputs": [
    {
     "name": "stdout",
     "output_type": "stream",
     "text": [
      "5    57420\n",
      "4    19200\n",
      "1    11858\n",
      "3     8287\n",
      "2     3235\n",
      "Name: review_score, dtype: int64\n"
     ]
    },
    {
     "data": {
      "text/plain": [
       "<Figure size 640x480 with 1 Axes>"
      ]
     },
     "metadata": {},
     "output_type": "display_data"
    }
   ],
   "source": [
    "import matplotlib.pyplot as plt\n",
    "\n",
    "unique_review_score = df['review_score'].value_counts()\n",
    "\n",
    "print(unique_review_score)\n",
    "\n",
    "index = sorted(df['review_score'].unique())\n",
    "frequence = [unique_review_score.at[x] for x in index]\n",
    "bar_width = 0.35\n",
    "\n",
    "plt.bar(index, frequence, bar_width)\n",
    "plt.title('Frequence of scores of the dataset')\n",
    "plt.ylabel('Frequence')\n",
    "plt.xlabel('Score')\n",
    "plt.show()"
   ]
  },
  {
   "cell_type": "code",
   "execution_count": 3,
   "metadata": {},
   "outputs": [
    {
     "data": {
      "image/png": "[encoded data removed]",
      "text/plain": [
       "<Figure size 1080x1080 with 3 Axes>"
      ]
     },
     "metadata": {},
     "output_type": "display_data"
    }
   ],
   "source": [
    "import matplotlib.pyplot as plt\n",
    "import numpy as np\n",
    "\n",
    "# Calculus of the number of sample of interest\n",
    "total_rows = df.shape[0]\n",
    "total_comments_message = df['review_comment_message'].count()\n",
    "total_comments_title = df['review_comment_title'].count()\n",
    "total_filled_message_and_title = df.loc[np.logical_not(df.review_comment_title.isna() | df.review_comment_message.isna())].shape[0]\n",
    "\n",
    "# Preparing labels and values to the ploted\n",
    "labels_comment_message = ['Filled Comment Message', 'Not Filled Comment Message']\n",
    "sizes_comment_message = [total_comments_message, total_rows - total_comments_message]\n",
    "\n",
    "labels_comment_title = ['Filled Comment Title', 'Not Filled Comment Title']\n",
    "sizes_comment_title = [total_comments_title, total_rows - total_comments_title]\n",
    "\n",
    "labels_message_and_title = ['Intersection Message and Title Filled', 'Other Rows']\n",
    "sizes_message_and_title = [total_filled_message_and_title, total_rows - total_filled_message_and_title]\n",
    "explode = [0, 0.1]\n",
    "\n",
    "# Plot the 3 pie charts\n",
    "plt.figure(figsize=(15, 15))\n",
    "plt.subplot(3, 1, 1)\n",
    "plt.title('Total of NaN at review comment message')\n",
    "plt.pie(sizes_comment_message, explode=explode, labels=labels_comment_message, autopct='%1.1f%%',\n",
    "        shadow=True, startangle=90)\n",
    "\n",
    "plt.subplot(3, 1, 2)\n",
    "plt.title('Total of NaN at review comment title')\n",
    "plt.pie(sizes_comment_title, explode=explode, labels=labels_comment_title, autopct='%1.1f%%',\n",
    "        shadow=True, startangle=90)\n",
    "\n",
    "plt.subplot(3, 1, 3)\n",
    "plt.title('Total Both Message and Title Filled')\n",
    "plt.pie(sizes_message_and_title, explode=explode, labels=labels_message_and_title, autopct='%1.1f%%',\n",
    "        shadow=True, startangle=90)\n",
    "plt.show()"
   ]
  },
  {
   "cell_type": "markdown",
   "metadata": {},
   "source": [
    "# Cleaning the Data"
   ]
  },
  {
   "cell_type": "code",
   "execution_count": 4,
   "metadata": {},
   "outputs": [
    {
     "name": "stdout",
     "output_type": "stream",
     "text": [
      "['de', 'a', 'o', 'que', 'e', 'do', 'da', 'em', 'um', 'para', 'com', 'não', 'uma', 'os', 'no', 'se', 'na', 'por', 'mais', 'as', 'dos', 'como', 'mas', 'ao', 'ele', 'das', 'à', 'seu', 'sua', 'ou', 'quando', 'muito', 'nos', 'já', 'eu', 'também', 'só', 'pelo', 'pela', 'até', 'isso', 'ela', 'entre', 'depois', 'sem', 'mesmo', 'aos', 'seus', 'quem', 'nas', 'me', 'esse', 'eles', 'você', 'essa', 'num', 'nem', 'suas', 'meu', 'às', 'minha', 'numa', 'pelos', 'elas', 'qual', 'nós', 'lhe', 'deles', 'essas', 'esses', 'pelas', 'este', 'dele', 'tu', 'te', 'vocês', 'vos', 'lhes', 'meus', 'minhas', 'teu', 'tua', 'teus', 'tuas', 'nosso', 'nossa', 'nossos', 'nossas', 'dela', 'delas', 'esta', 'estes', 'estas', 'aquele', 'aquela', 'aqueles', 'aquelas', 'isto', 'aquilo', 'estou', 'está', 'estamos', 'estão', 'estive', 'esteve', 'estivemos', 'estiveram', 'estava', 'estávamos', 'estavam', 'estivera', 'estivéramos', 'esteja', 'estejamos', 'estejam', 'estivesse', 'estivéssemos', 'estivessem', 'estiver', 'estivermos', 'estiverem', 'hei', 'há', 'havemos', 'hão', 'houve', 'houvemos', 'houveram', 'houvera', 'houvéramos', 'haja', 'hajamos', 'hajam', 'houvesse', 'houvéssemos', 'houvessem', 'houver', 'houvermos', 'houverem', 'houverei', 'houverá', 'houveremos', 'houverão', 'houveria', 'houveríamos', 'houveriam', 'sou', 'somos', 'são', 'era', 'éramos', 'eram', 'fui', 'foi', 'fomos', 'foram', 'fora', 'fôramos', 'seja', 'sejamos', 'sejam', 'fosse', 'fôssemos', 'fossem', 'for', 'formos', 'forem', 'serei', 'será', 'seremos', 'serão', 'seria', 'seríamos', 'seriam', 'tenho', 'tem', 'temos', 'tém', 'tinha', 'tínhamos', 'tinham', 'tive', 'teve', 'tivemos', 'tiveram', 'tivera', 'tivéramos', 'tenha', 'tenhamos', 'tenham', 'tivesse', 'tivéssemos', 'tivessem', 'tiver', 'tivermos', 'tiverem', 'terei', 'terá', 'teremos', 'terão', 'teria', 'teríamos', 'teriam']\n"
     ]
    }
   ],
   "source": [
    "from nltk.corpus import stopwords\n",
    "\n",
    "stop_words = stopwords.words('portuguese')\n",
    "print(stop_words)"
   ]
  },
  {
   "cell_type": "code",
   "execution_count": 5,
   "metadata": {},
   "outputs": [
    {
     "name": "stdout",
     "output_type": "stream",
     "text": [
      "(41753, 6)\n",
      "Recebi bem antes do prazo estipulado.\n",
      "recebi bem antes prazo estipulado\n",
      "\n",
      "Parabéns lojas lannister adorei comprar pela Internet seguro e prático Parabéns a todos feliz Páscoa\n",
      "parabens lojas lannister adorei comprar internet seguro pratico parabens todos feliz pascoa\n",
      "\n",
      "aparelho eficiente. no site a marca do aparelho esta impresso como 3desinfector e ao chegar esta com outro nome...atualizar com a marca correta uma vez que é o mesmo aparelho\n",
      "aparelho eficiente site marca aparelho impresso 3desinfector chegar outro nome atualizar marca correta vez aparelho\n",
      "\n",
      "Mas um pouco ,travando...pelo valor ta Boa.\n",
      "\n",
      "pouco travando pelo valor ta boa\n",
      "\n",
      "Vendedor confiável, produto ok e entrega antes do prazo.\n",
      "vendedor confiavel produto ok entrega antes prazo\n",
      "\n",
      "GOSTARIA DE SABER O QUE HOUVE, SEMPRE RECEBI E ESSA COMPRA AGORA ME DECPCIONOU\n",
      "gostaria saber houve sempre recebi compra agora decpcionou\n",
      "\n",
      "Péssimo\n",
      "pessimo\n",
      "\n",
      "Loja nota 10\n",
      "loja nota 10\n",
      "\n",
      "obrigado pela atençao amim dispensada\n",
      "obrigado atencao amim dispensada\n",
      "\n",
      "A compra foi realizada facilmente.\n",
      "A entrega foi efetuada muito antes do prazo dado.\n",
      "O produto já começou a ser usado e até o presente,\n",
      "sem problemas.\n",
      "compra realizada facilmente entrega efetuada antes prazo dado produto ja comecou ser usado ate presente problemas\n",
      "\n",
      "relógio muito bonito e barato.\n",
      "relogio bonito barato\n",
      "\n",
      "Não gostei ! Comprei gato por lebre\n",
      "nao gostei comprei gato lebre\n",
      "\n",
      "Sempre compro pela Internet e a entrega ocorre antes do prazo combinado, que acredito ser o prazo máximo. No stark o prazo máximo já se esgotou e ainda não recebi o produto.\n",
      "sempre compro internet entrega ocorre antes prazo combinado acredito ser prazo maximo stark prazo maximo ja esgotou ainda nao recebi produto\n",
      "\n",
      "Recebi exatamente o que esperava. As demais encomendas de outros vendedores atrasaram, mas esta chegou no prazo.\n",
      "recebi exatamente esperava demais encomendas outros vendedores atrasaram chegou prazo\n",
      "\n",
      "Recomendo ,\n",
      "recomendo\n",
      "\n",
      "muito boa \n",
      "boa\n",
      "\n",
      "Tô completamente apaixonada, loja super responsável e confiável!\n",
      "to completamente apaixonada loja super responsavel confiavel\n",
      "\n",
      "Nada de chegar o meu pedido.\n",
      "nada chegar pedido\n",
      "\n",
      "Muito bom. muito cheiroso.\n",
      "bom cheiroso\n",
      "\n",
      "otimo vendedor chegou ate antes do prazo , adorei o produto\n",
      "otimo vendedor chegou ate antes prazo adorei produto\n",
      "\n"
     ]
    }
   ],
   "source": [
    "import unicodedata\n",
    "from nltk.tokenize import RegexpTokenizer\n",
    "\n",
    "\n",
    "df.dropna(subset=['review_comment_message'], inplace=True)\n",
    "\n",
    "print(df.shape)\n",
    "\n",
    "def clean_data(input_str):\n",
    "    input_str = input_str.lower()\n",
    "    input_str = remove_accent(input_str)\n",
    "    input_str = remove_stopwords(input_str)\n",
    "    input_str = remove_punctuation(input_str)\n",
    "    \n",
    "    return input_str\n",
    "\n",
    "def remove_stopwords(string):\n",
    "    result_string = []\n",
    "    \n",
    "    for letter in string.split():\n",
    "        result_string.append(letter) if letter not in stop_words else None\n",
    "        \n",
    "    return \" \".join(result_string)\n",
    "\n",
    "def remove_punctuation(string):\n",
    "    tokenizer = RegexpTokenizer(r'\\w+')\n",
    "    result_string = tokenizer.tokenize(string)\n",
    "    return \" \".join(result_string)\n",
    "\n",
    "def remove_accent(string):\n",
    "    nfkd_form = unicodedata.normalize('NFKD', string)\n",
    "    return u\"\".join([c for c in nfkd_form if not unicodedata.combining(c)])\n",
    "\n",
    "df['cleaned_comment_message'] = df['review_comment_message'].apply(clean_data)\n",
    "\n",
    "for i in range(20):\n",
    "    print(df['review_comment_message'][i])\n",
    "    print(df['cleaned_comment_message'][i])\n",
    "    print()"
   ]
  },
  {
   "cell_type": "code",
   "execution_count": 6,
   "metadata": {},
   "outputs": [],
   "source": [
    "from sklearn.feature_extraction.text import CountVectorizer\n",
    "\n",
    "target = df['review_score'].values\n",
    "data = df['cleaned_comment_message'].values\n",
    "\n",
    "cv = CountVectorizer()\n",
    "cv.fit(data)\n",
    "data = cv.transform(data)"
   ]
  },
  {
   "cell_type": "code",
   "execution_count": 13,
   "metadata": {},
   "outputs": [
    {
     "name": "stdout",
     "output_type": "stream",
     "text": [
      "Accuracy for C=0.05: 0.6755850554263035\n"
     ]
    }
   ],
   "source": [
    "from sklearn.linear_model import LogisticRegression\n",
    "from sklearn.metrics import accuracy_score\n",
    "from sklearn.model_selection import train_test_split\n",
    "\n",
    "X_train, X_test, y_train, y_test = train_test_split(\n",
    "    data, target, test_size=0.35, random_state=42\n",
    ")\n",
    "\n",
    "#for c in [0.01, 0.05, 0.25, 0.5, 1]:\n",
    "\n",
    "c = 0.05\n",
    "lr = LogisticRegression(C=c, solver='lbfgs', multi_class='auto')\n",
    "lr.fit(X_train, y_train)\n",
    "print (\"Accuracy for C=%s: %s\" % (c, accuracy_score(y_test, lr.predict(X_test))))"
   ]
  }
 ],
 "metadata": {
  "kernelspec": {
   "display_name": "Python 3",
   "language": "python",
   "name": "python3"
  },
  "language_info": {
   "codemirror_mode": {
    "name": "ipython",
    "version": 3
   },
   "file_extension": ".py",
   "mimetype": "text/x-python",
   "name": "python",
   "nbconvert_exporter": "python",
   "pygments_lexer": "ipython3",
   "version": "3.6.2"
  }
 },
 "nbformat": 4,
 "nbformat_minor": 2
}
