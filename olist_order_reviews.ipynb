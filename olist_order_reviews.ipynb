{
 "cells": [
  {
   "cell_type": "code",
   "execution_count": 1,
   "metadata": {},
   "outputs": [
    {
     "name": "stdout",
     "output_type": "stream",
     "text": [
      "(100000, 6)\n"
     ]
    },
    {
     "data": {
      "text/html": [
       "<div>\n",
       "<style scoped>\n",
       "    .dataframe tbody tr th:only-of-type {\n",
       "        vertical-align: middle;\n",
       "    }\n",
       "\n",
       "    .dataframe tbody tr th {\n",
       "        vertical-align: top;\n",
       "    }\n",
       "\n",
       "    .dataframe thead th {\n",
       "        text-align: right;\n",
       "    }\n",
       "</style>\n",
       "<table border=\"1\" class=\"dataframe\">\n",
       "  <thead>\n",
       "    <tr style=\"text-align: right;\">\n",
       "      <th></th>\n",
       "      <th>order_id</th>\n",
       "      <th>review_score</th>\n",
       "      <th>review_comment_title</th>\n",
       "      <th>review_comment_message</th>\n",
       "      <th>review_creation_date</th>\n",
       "      <th>review_answer_timestamp</th>\n",
       "    </tr>\n",
       "    <tr>\n",
       "      <th>review_id</th>\n",
       "      <th></th>\n",
       "      <th></th>\n",
       "      <th></th>\n",
       "      <th></th>\n",
       "      <th></th>\n",
       "      <th></th>\n",
       "    </tr>\n",
       "  </thead>\n",
       "  <tbody>\n",
       "    <tr>\n",
       "      <th>7bc2406110b926393aa56f80a40eba40</th>\n",
       "      <td>73fc7af87114b39712e6da79b0a377eb</td>\n",
       "      <td>4</td>\n",
       "      <td>NaN</td>\n",
       "      <td>NaN</td>\n",
       "      <td>2018-01-18 00:00:00</td>\n",
       "      <td>2018-01-18 21:46:59</td>\n",
       "    </tr>\n",
       "    <tr>\n",
       "      <th>80e641a11e56f04c1ad469d5645fdfde</th>\n",
       "      <td>a548910a1c6147796b98fdf73dbeba33</td>\n",
       "      <td>5</td>\n",
       "      <td>NaN</td>\n",
       "      <td>NaN</td>\n",
       "      <td>2018-03-10 00:00:00</td>\n",
       "      <td>2018-03-11 03:05:13</td>\n",
       "    </tr>\n",
       "    <tr>\n",
       "      <th>228ce5500dc1d8e020d8d1322874b6f0</th>\n",
       "      <td>f9e4b658b201a9f2ecdecbb34bed034b</td>\n",
       "      <td>5</td>\n",
       "      <td>NaN</td>\n",
       "      <td>NaN</td>\n",
       "      <td>2018-02-17 00:00:00</td>\n",
       "      <td>2018-02-18 14:36:24</td>\n",
       "    </tr>\n",
       "    <tr>\n",
       "      <th>e64fb393e7b32834bb789ff8bb30750e</th>\n",
       "      <td>658677c97b385a9be170737859d3511b</td>\n",
       "      <td>5</td>\n",
       "      <td>NaN</td>\n",
       "      <td>Recebi bem antes do prazo estipulado.</td>\n",
       "      <td>2017-04-21 00:00:00</td>\n",
       "      <td>2017-04-21 22:02:06</td>\n",
       "    </tr>\n",
       "    <tr>\n",
       "      <th>f7c4243c7fe1938f181bec41a392bdeb</th>\n",
       "      <td>8e6bfb81e283fa7e4f11123a3fb894f1</td>\n",
       "      <td>5</td>\n",
       "      <td>NaN</td>\n",
       "      <td>Parabéns lojas lannister adorei comprar pela I...</td>\n",
       "      <td>2018-03-01 00:00:00</td>\n",
       "      <td>2018-03-02 10:26:53</td>\n",
       "    </tr>\n",
       "  </tbody>\n",
       "</table>\n",
       "</div>"
      ],
      "text/plain": [
       "                                                          order_id  \\\n",
       "review_id                                                            \n",
       "7bc2406110b926393aa56f80a40eba40  73fc7af87114b39712e6da79b0a377eb   \n",
       "80e641a11e56f04c1ad469d5645fdfde  a548910a1c6147796b98fdf73dbeba33   \n",
       "228ce5500dc1d8e020d8d1322874b6f0  f9e4b658b201a9f2ecdecbb34bed034b   \n",
       "e64fb393e7b32834bb789ff8bb30750e  658677c97b385a9be170737859d3511b   \n",
       "f7c4243c7fe1938f181bec41a392bdeb  8e6bfb81e283fa7e4f11123a3fb894f1   \n",
       "\n",
       "                                  review_score review_comment_title  \\\n",
       "review_id                                                             \n",
       "7bc2406110b926393aa56f80a40eba40             4                  NaN   \n",
       "80e641a11e56f04c1ad469d5645fdfde             5                  NaN   \n",
       "228ce5500dc1d8e020d8d1322874b6f0             5                  NaN   \n",
       "e64fb393e7b32834bb789ff8bb30750e             5                  NaN   \n",
       "f7c4243c7fe1938f181bec41a392bdeb             5                  NaN   \n",
       "\n",
       "                                                             review_comment_message  \\\n",
       "review_id                                                                             \n",
       "7bc2406110b926393aa56f80a40eba40                                                NaN   \n",
       "80e641a11e56f04c1ad469d5645fdfde                                                NaN   \n",
       "228ce5500dc1d8e020d8d1322874b6f0                                                NaN   \n",
       "e64fb393e7b32834bb789ff8bb30750e              Recebi bem antes do prazo estipulado.   \n",
       "f7c4243c7fe1938f181bec41a392bdeb  Parabéns lojas lannister adorei comprar pela I...   \n",
       "\n",
       "                                 review_creation_date review_answer_timestamp  \n",
       "review_id                                                                      \n",
       "7bc2406110b926393aa56f80a40eba40  2018-01-18 00:00:00     2018-01-18 21:46:59  \n",
       "80e641a11e56f04c1ad469d5645fdfde  2018-03-10 00:00:00     2018-03-11 03:05:13  \n",
       "228ce5500dc1d8e020d8d1322874b6f0  2018-02-17 00:00:00     2018-02-18 14:36:24  \n",
       "e64fb393e7b32834bb789ff8bb30750e  2017-04-21 00:00:00     2017-04-21 22:02:06  \n",
       "f7c4243c7fe1938f181bec41a392bdeb  2018-03-01 00:00:00     2018-03-02 10:26:53  "
      ]
     },
     "execution_count": 1,
     "metadata": {},
     "output_type": "execute_result"
    }
   ],
   "source": [
    "import pandas as pd\n",
    "\n",
    "df = pd.read_csv('olist_order_reviews_dataset.csv', index_col='review_id')\n",
    "\n",
    "print(df.shape)\n",
    "\n",
    "df.head()"
   ]
  },
  {
   "cell_type": "markdown",
   "metadata": {},
   "source": [
    "# Exploratory Data Analysis"
   ]
  },
  {
   "cell_type": "code",
   "execution_count": 2,
   "metadata": {},
   "outputs": [
    {
     "data": {
      "image/png": "[encoded data removed]",
      "text/plain": [
       "<Figure size 720x720 with 3 Axes>"
      ]
     },
     "metadata": {},
     "output_type": "display_data"
    }
   ],
   "source": [
    "%matplotlib inline\n",
    "\n",
    "import matplotlib.pyplot as plt\n",
    "import numpy as np\n",
    "\n",
    "# Calculus of the number of sample of interest\n",
    "total_rows = df.shape[0]\n",
    "total_comments_message = df['review_comment_message'].count()\n",
    "total_comments_title = df['review_comment_title'].count()\n",
    "total_filled_message_and_title = df.loc[np.logical_not(df.review_comment_title.isna() | df.review_comment_message.isna())].shape[0]\n",
    "\n",
    "# Preparing labels and values to the ploted\n",
    "labels_comment_message = ['Filled Comment Message', 'Not Filled Comment Message']\n",
    "sizes_comment_message = [total_comments_message, total_rows - total_comments_message]\n",
    "\n",
    "labels_comment_title = ['Filled Comment Title', 'Not Filled Comment Title']\n",
    "sizes_comment_title = [total_comments_title, total_rows - total_comments_title]\n",
    "\n",
    "labels_message_and_title = ['Intersection Message and Title Filled', 'Other Rows']\n",
    "sizes_message_and_title = [total_filled_message_and_title, total_rows - total_filled_message_and_title]\n",
    "explode = [0, 0.1]\n",
    "\n",
    "# Plot the 3 pie charts\n",
    "plt.figure(figsize=(10, 10))\n",
    "plt.subplot(3, 1, 1)\n",
    "plt.title('Total of NaN values at review comment message')\n",
    "plt.pie(sizes_comment_message, explode=explode, labels=labels_comment_message, autopct='%1.1f%%',\n",
    "        shadow=True, startangle=90)\n",
    "\n",
    "plt.subplot(3, 1, 2)\n",
    "plt.title('Total of NaN values at review comment title')\n",
    "plt.pie(sizes_comment_title, explode=explode, labels=labels_comment_title, autopct='%1.1f%%',\n",
    "        shadow=True, startangle=90)\n",
    "\n",
    "plt.subplot(3, 1, 3)\n",
    "plt.title('Total Both values Message and Title Filled')\n",
    "plt.pie(sizes_message_and_title, explode=explode, labels=labels_message_and_title, autopct='%1.1f%%',\n",
    "        shadow=True, startangle=90)\n",
    "plt.show()"
   ]
  },
  {
   "cell_type": "code",
   "execution_count": 3,
   "metadata": {},
   "outputs": [
    {
     "name": "stdout",
     "output_type": "stream",
     "text": [
      "5    20646\n",
      "1     9179\n",
      "4     6034\n",
      "3     3665\n",
      "2     2229\n",
      "Name: review_score, dtype: int64\n"
     ]
    },
    {
     "data": {
      "image/png": "[encoded data removed]",
      "text/plain": [
       "<Figure size 432x288 with 1 Axes>"
      ]
     },
     "metadata": {
      "needs_background": "light"
     },
     "output_type": "display_data"
    }
   ],
   "source": [
    "import matplotlib.pyplot as plt\n",
    "\n",
    "df.dropna(subset=['review_comment_message'], inplace=True)\n",
    "\n",
    "unique_review_score = df['review_score'].value_counts()\n",
    "\n",
    "print(unique_review_score)\n",
    "\n",
    "index = sorted(df['review_score'].unique())\n",
    "frequence = [unique_review_score.at[x] for x in index]\n",
    "bar_width = 0.35\n",
    "\n",
    "plt.bar(index, frequence, bar_width)\n",
    "plt.title('Frequence of scores of the dataset')\n",
    "plt.ylabel('Frequence')\n",
    "plt.xlabel('Score')\n",
    "plt.show()"
   ]
  },
  {
   "cell_type": "code",
   "execution_count": 4,
   "metadata": {},
   "outputs": [
    {
     "name": "stdout",
     "output_type": "stream",
     "text": [
      "{'.': 30495, ',': 23201, 'o': 15549, 'e': 15424, 'produto': 14198, 'de': 11269, 'do': 11041, 'a': 10793, '!': 10776, 'não': 8821, 'que': 8440, 'prazo': 8064, 'muito': 5806, 'com': 5618, 'antes': 5453}\n"
     ]
    },
    {
     "data": {
      "image/png": "[encoded data removed]",
      "text/plain": [
       "<Figure size 648x648 with 1 Axes>"
      ]
     },
     "metadata": {
      "needs_background": "light"
     },
     "output_type": "display_data"
    }
   ],
   "source": [
    "import itertools\n",
    "import matplotlib.pyplot as plt\n",
    "from nltk import FreqDist\n",
    "from nltk import word_tokenize\n",
    "\n",
    "n_most_common_words = 15\n",
    "\n",
    "def calculate_token_distribution(n_most_common_words, column='review_comment_message'):\n",
    "    tokens = df[column].apply(word_tokenize)\n",
    "    tokens = list(itertools.chain(*tokens))\n",
    "\n",
    "    frequence = FreqDist(tokens).most_common(n_most_common_words)\n",
    "    return dict(frequence)\n",
    "\n",
    "frequence = calculate_token_distribution(n_most_common_words)\n",
    "print(frequence)\n",
    "\n",
    "index = list(frequence.keys())\n",
    "frequence = [frequence.get(x) for x in index]\n",
    "bar_width = 0.45\n",
    "\n",
    "plt.figure(figsize=(9, 9))\n",
    "plt.bar(index, frequence, bar_width)\n",
    "plt.title('{} most common tokens of the column review_comment_message'.format(n_most_common_words))\n",
    "plt.ylabel('Frequence')\n",
    "plt.xlabel('Token')\n",
    "plt.show()"
   ]
  },
  {
   "cell_type": "markdown",
   "metadata": {},
   "source": [
    "# Cleaning the Data"
   ]
  },
  {
   "cell_type": "code",
   "execution_count": 5,
   "metadata": {},
   "outputs": [
    {
     "data": {
      "text/html": [
       "<div>\n",
       "<style scoped>\n",
       "    .dataframe tbody tr th:only-of-type {\n",
       "        vertical-align: middle;\n",
       "    }\n",
       "\n",
       "    .dataframe tbody tr th {\n",
       "        vertical-align: top;\n",
       "    }\n",
       "\n",
       "    .dataframe thead th {\n",
       "        text-align: right;\n",
       "    }\n",
       "</style>\n",
       "<table border=\"1\" class=\"dataframe\">\n",
       "  <thead>\n",
       "    <tr style=\"text-align: right;\">\n",
       "      <th></th>\n",
       "      <th>order_id</th>\n",
       "      <th>review_score</th>\n",
       "      <th>review_comment_title</th>\n",
       "      <th>review_comment_message</th>\n",
       "      <th>review_creation_date</th>\n",
       "      <th>review_answer_timestamp</th>\n",
       "      <th>review_comment_message_and_title</th>\n",
       "    </tr>\n",
       "    <tr>\n",
       "      <th>review_id</th>\n",
       "      <th></th>\n",
       "      <th></th>\n",
       "      <th></th>\n",
       "      <th></th>\n",
       "      <th></th>\n",
       "      <th></th>\n",
       "      <th></th>\n",
       "    </tr>\n",
       "  </thead>\n",
       "  <tbody>\n",
       "    <tr>\n",
       "      <th>e64fb393e7b32834bb789ff8bb30750e</th>\n",
       "      <td>658677c97b385a9be170737859d3511b</td>\n",
       "      <td>5</td>\n",
       "      <td>NaN</td>\n",
       "      <td>Recebi bem antes do prazo estipulado.</td>\n",
       "      <td>2017-04-21 00:00:00</td>\n",
       "      <td>2017-04-21 22:02:06</td>\n",
       "      <td>Recebi bem antes do prazo estipulado.</td>\n",
       "    </tr>\n",
       "    <tr>\n",
       "      <th>f7c4243c7fe1938f181bec41a392bdeb</th>\n",
       "      <td>8e6bfb81e283fa7e4f11123a3fb894f1</td>\n",
       "      <td>5</td>\n",
       "      <td>NaN</td>\n",
       "      <td>Parabéns lojas lannister adorei comprar pela I...</td>\n",
       "      <td>2018-03-01 00:00:00</td>\n",
       "      <td>2018-03-02 10:26:53</td>\n",
       "      <td>Parabéns lojas lannister adorei comprar pela I...</td>\n",
       "    </tr>\n",
       "    <tr>\n",
       "      <th>8670d52e15e00043ae7de4c01cc2fe06</th>\n",
       "      <td>b9bf720beb4ab3728760088589c62129</td>\n",
       "      <td>4</td>\n",
       "      <td>recomendo</td>\n",
       "      <td>aparelho eficiente. no site a marca do aparelh...</td>\n",
       "      <td>2018-05-22 00:00:00</td>\n",
       "      <td>2018-05-23 16:45:47</td>\n",
       "      <td>recomendo aparelho eficiente. no site a marca ...</td>\n",
       "    </tr>\n",
       "    <tr>\n",
       "      <th>4b49719c8a200003f700d3d986ea1a19</th>\n",
       "      <td>9d6f15f95d01e79bd1349cc208361f09</td>\n",
       "      <td>4</td>\n",
       "      <td>NaN</td>\n",
       "      <td>Mas um pouco ,travando...pelo valor ta Boa.\\r\\n</td>\n",
       "      <td>2018-02-16 00:00:00</td>\n",
       "      <td>2018-02-20 10:52:22</td>\n",
       "      <td>Mas um pouco ,travando...pelo valor ta Boa.\\r\\n</td>\n",
       "    </tr>\n",
       "    <tr>\n",
       "      <th>3948b09f7c818e2d86c9a546758b2335</th>\n",
       "      <td>e51478e7e277a83743b6f9991dbfa3fb</td>\n",
       "      <td>5</td>\n",
       "      <td>Super recomendo</td>\n",
       "      <td>Vendedor confiável, produto ok e entrega antes...</td>\n",
       "      <td>2018-05-23 00:00:00</td>\n",
       "      <td>2018-05-24 03:00:01</td>\n",
       "      <td>Super recomendo Vendedor confiável, produto ok...</td>\n",
       "    </tr>\n",
       "    <tr>\n",
       "      <th>9314d6f9799f5bfba510cc7bcd468c01</th>\n",
       "      <td>0dacf04c5ad59fd5a0cc1faa07c34e39</td>\n",
       "      <td>2</td>\n",
       "      <td>NaN</td>\n",
       "      <td>GOSTARIA DE SABER O QUE HOUVE, SEMPRE RECEBI E...</td>\n",
       "      <td>2018-01-18 00:00:00</td>\n",
       "      <td>2018-01-20 21:25:45</td>\n",
       "      <td>GOSTARIA DE SABER O QUE HOUVE, SEMPRE RECEBI E...</td>\n",
       "    </tr>\n",
       "    <tr>\n",
       "      <th>373cbeecea8286a2b66c97b1b157ec46</th>\n",
       "      <td>583174fbe37d3d5f0d6661be3aad1786</td>\n",
       "      <td>1</td>\n",
       "      <td>Não chegou meu produto</td>\n",
       "      <td>Péssimo</td>\n",
       "      <td>2018-08-15 00:00:00</td>\n",
       "      <td>2018-08-15 04:10:37</td>\n",
       "      <td>Não chegou meu produto  Péssimo</td>\n",
       "    </tr>\n",
       "    <tr>\n",
       "      <th>d21bbc789670eab777d27372ab9094cc</th>\n",
       "      <td>4fc44d78867142c627497b60a7e0228a</td>\n",
       "      <td>5</td>\n",
       "      <td>Ótimo</td>\n",
       "      <td>Loja nota 10</td>\n",
       "      <td>2018-07-10 00:00:00</td>\n",
       "      <td>2018-07-11 14:10:25</td>\n",
       "      <td>Ótimo Loja nota 10</td>\n",
       "    </tr>\n",
       "    <tr>\n",
       "      <th>0e0190b9db53b689b285d3f3916f8441</th>\n",
       "      <td>79832b7cb59ac6f887088ffd686e1d5e</td>\n",
       "      <td>5</td>\n",
       "      <td>NaN</td>\n",
       "      <td>obrigado pela atençao amim dispensada</td>\n",
       "      <td>2017-12-01 00:00:00</td>\n",
       "      <td>2017-12-09 22:58:58</td>\n",
       "      <td>obrigado pela atençao amim dispensada</td>\n",
       "    </tr>\n",
       "    <tr>\n",
       "      <th>fe3db7c069d694bab50cc43463f91608</th>\n",
       "      <td>2ca73e2ff9e3a186ad1e1ffb9b1d9c10</td>\n",
       "      <td>5</td>\n",
       "      <td>NaN</td>\n",
       "      <td>A compra foi realizada facilmente.\\r\\nA entreg...</td>\n",
       "      <td>2018-03-23 00:00:00</td>\n",
       "      <td>2018-04-01 00:27:51</td>\n",
       "      <td>A compra foi realizada facilmente.\\r\\nA entreg...</td>\n",
       "    </tr>\n",
       "  </tbody>\n",
       "</table>\n",
       "</div>"
      ],
      "text/plain": [
       "                                                          order_id  \\\n",
       "review_id                                                            \n",
       "e64fb393e7b32834bb789ff8bb30750e  658677c97b385a9be170737859d3511b   \n",
       "f7c4243c7fe1938f181bec41a392bdeb  8e6bfb81e283fa7e4f11123a3fb894f1   \n",
       "8670d52e15e00043ae7de4c01cc2fe06  b9bf720beb4ab3728760088589c62129   \n",
       "4b49719c8a200003f700d3d986ea1a19  9d6f15f95d01e79bd1349cc208361f09   \n",
       "3948b09f7c818e2d86c9a546758b2335  e51478e7e277a83743b6f9991dbfa3fb   \n",
       "9314d6f9799f5bfba510cc7bcd468c01  0dacf04c5ad59fd5a0cc1faa07c34e39   \n",
       "373cbeecea8286a2b66c97b1b157ec46  583174fbe37d3d5f0d6661be3aad1786   \n",
       "d21bbc789670eab777d27372ab9094cc  4fc44d78867142c627497b60a7e0228a   \n",
       "0e0190b9db53b689b285d3f3916f8441  79832b7cb59ac6f887088ffd686e1d5e   \n",
       "fe3db7c069d694bab50cc43463f91608  2ca73e2ff9e3a186ad1e1ffb9b1d9c10   \n",
       "\n",
       "                                  review_score     review_comment_title  \\\n",
       "review_id                                                                 \n",
       "e64fb393e7b32834bb789ff8bb30750e             5                      NaN   \n",
       "f7c4243c7fe1938f181bec41a392bdeb             5                      NaN   \n",
       "8670d52e15e00043ae7de4c01cc2fe06             4                recomendo   \n",
       "4b49719c8a200003f700d3d986ea1a19             4                      NaN   \n",
       "3948b09f7c818e2d86c9a546758b2335             5          Super recomendo   \n",
       "9314d6f9799f5bfba510cc7bcd468c01             2                      NaN   \n",
       "373cbeecea8286a2b66c97b1b157ec46             1  Não chegou meu produto    \n",
       "d21bbc789670eab777d27372ab9094cc             5                    Ótimo   \n",
       "0e0190b9db53b689b285d3f3916f8441             5                      NaN   \n",
       "fe3db7c069d694bab50cc43463f91608             5                      NaN   \n",
       "\n",
       "                                                             review_comment_message  \\\n",
       "review_id                                                                             \n",
       "e64fb393e7b32834bb789ff8bb30750e              Recebi bem antes do prazo estipulado.   \n",
       "f7c4243c7fe1938f181bec41a392bdeb  Parabéns lojas lannister adorei comprar pela I...   \n",
       "8670d52e15e00043ae7de4c01cc2fe06  aparelho eficiente. no site a marca do aparelh...   \n",
       "4b49719c8a200003f700d3d986ea1a19    Mas um pouco ,travando...pelo valor ta Boa.\\r\\n   \n",
       "3948b09f7c818e2d86c9a546758b2335  Vendedor confiável, produto ok e entrega antes...   \n",
       "9314d6f9799f5bfba510cc7bcd468c01  GOSTARIA DE SABER O QUE HOUVE, SEMPRE RECEBI E...   \n",
       "373cbeecea8286a2b66c97b1b157ec46                                            Péssimo   \n",
       "d21bbc789670eab777d27372ab9094cc                                       Loja nota 10   \n",
       "0e0190b9db53b689b285d3f3916f8441              obrigado pela atençao amim dispensada   \n",
       "fe3db7c069d694bab50cc43463f91608  A compra foi realizada facilmente.\\r\\nA entreg...   \n",
       "\n",
       "                                 review_creation_date review_answer_timestamp  \\\n",
       "review_id                                                                       \n",
       "e64fb393e7b32834bb789ff8bb30750e  2017-04-21 00:00:00     2017-04-21 22:02:06   \n",
       "f7c4243c7fe1938f181bec41a392bdeb  2018-03-01 00:00:00     2018-03-02 10:26:53   \n",
       "8670d52e15e00043ae7de4c01cc2fe06  2018-05-22 00:00:00     2018-05-23 16:45:47   \n",
       "4b49719c8a200003f700d3d986ea1a19  2018-02-16 00:00:00     2018-02-20 10:52:22   \n",
       "3948b09f7c818e2d86c9a546758b2335  2018-05-23 00:00:00     2018-05-24 03:00:01   \n",
       "9314d6f9799f5bfba510cc7bcd468c01  2018-01-18 00:00:00     2018-01-20 21:25:45   \n",
       "373cbeecea8286a2b66c97b1b157ec46  2018-08-15 00:00:00     2018-08-15 04:10:37   \n",
       "d21bbc789670eab777d27372ab9094cc  2018-07-10 00:00:00     2018-07-11 14:10:25   \n",
       "0e0190b9db53b689b285d3f3916f8441  2017-12-01 00:00:00     2017-12-09 22:58:58   \n",
       "fe3db7c069d694bab50cc43463f91608  2018-03-23 00:00:00     2018-04-01 00:27:51   \n",
       "\n",
       "                                                   review_comment_message_and_title  \n",
       "review_id                                                                            \n",
       "e64fb393e7b32834bb789ff8bb30750e              Recebi bem antes do prazo estipulado.  \n",
       "f7c4243c7fe1938f181bec41a392bdeb  Parabéns lojas lannister adorei comprar pela I...  \n",
       "8670d52e15e00043ae7de4c01cc2fe06  recomendo aparelho eficiente. no site a marca ...  \n",
       "4b49719c8a200003f700d3d986ea1a19    Mas um pouco ,travando...pelo valor ta Boa.\\r\\n  \n",
       "3948b09f7c818e2d86c9a546758b2335  Super recomendo Vendedor confiável, produto ok...  \n",
       "9314d6f9799f5bfba510cc7bcd468c01  GOSTARIA DE SABER O QUE HOUVE, SEMPRE RECEBI E...  \n",
       "373cbeecea8286a2b66c97b1b157ec46                    Não chegou meu produto  Péssimo  \n",
       "d21bbc789670eab777d27372ab9094cc                                 Ótimo Loja nota 10  \n",
       "0e0190b9db53b689b285d3f3916f8441              obrigado pela atençao amim dispensada  \n",
       "fe3db7c069d694bab50cc43463f91608  A compra foi realizada facilmente.\\r\\nA entreg...  "
      ]
     },
     "execution_count": 5,
     "metadata": {},
     "output_type": "execute_result"
    }
   ],
   "source": [
    "def join_title_and_message(row):\n",
    "    if str(row.get('review_comment_title')) != 'nan' and str(row.get('review_comment_message')) != 'nan':\n",
    "        row.at['review_comment_message'] = \" \".join([str(row.get('review_comment_title', '')), str(row.get('review_comment_message', ''))])\n",
    "        \n",
    "    return row.get('review_comment_message')\n",
    "\n",
    "df['review_comment_message_and_title'] = df.apply(join_title_and_message, axis=1)\n",
    "\n",
    "df.head(10)"
   ]
  },
  {
   "cell_type": "code",
   "execution_count": 6,
   "metadata": {},
   "outputs": [
    {
     "name": "stdout",
     "output_type": "stream",
     "text": [
      "['de', 'a', 'o', 'que', 'e', 'do', 'da', 'em', 'um', 'para', 'com', 'nao', 'uma', 'os', 'no', 'se', 'na', 'por', 'mais', 'as', 'dos', 'como', 'mas', 'ao', 'ele', 'das', 'a', 'seu', 'sua', 'ou', 'quando', 'muito', 'nos', 'ja', 'eu', 'tambem', 'so', 'pelo', 'pela', 'ate', 'isso', 'ela', 'entre', 'depois', 'sem', 'mesmo', 'aos', 'seus', 'quem', 'nas', 'me', 'esse', 'eles', 'voce', 'essa', 'num', 'nem', 'suas', 'meu', 'as', 'minha', 'numa', 'pelos', 'elas', 'qual', 'nos', 'lhe', 'deles', 'essas', 'esses', 'pelas', 'este', 'dele', 'tu', 'te', 'voces', 'vos', 'lhes', 'meus', 'minhas', 'teu', 'tua', 'teus', 'tuas', 'nosso', 'nossa', 'nossos', 'nossas', 'dela', 'delas', 'esta', 'estes', 'estas', 'aquele', 'aquela', 'aqueles', 'aquelas', 'isto', 'aquilo', 'estou', 'esta', 'estamos', 'estao', 'estive', 'esteve', 'estivemos', 'estiveram', 'estava', 'estavamos', 'estavam', 'estivera', 'estiveramos', 'esteja', 'estejamos', 'estejam', 'estivesse', 'estivessemos', 'estivessem', 'estiver', 'estivermos', 'estiverem', 'hei', 'ha', 'havemos', 'hao', 'houve', 'houvemos', 'houveram', 'houvera', 'houveramos', 'haja', 'hajamos', 'hajam', 'houvesse', 'houvessemos', 'houvessem', 'houver', 'houvermos', 'houverem', 'houverei', 'houvera', 'houveremos', 'houverao', 'houveria', 'houveriamos', 'houveriam', 'sou', 'somos', 'sao', 'era', 'eramos', 'eram', 'fui', 'foi', 'fomos', 'foram', 'fora', 'foramos', 'seja', 'sejamos', 'sejam', 'fosse', 'fossemos', 'fossem', 'for', 'formos', 'forem', 'serei', 'sera', 'seremos', 'serao', 'seria', 'seriamos', 'seriam', 'tenho', 'tem', 'temos', 'tem', 'tinha', 'tinhamos', 'tinham', 'tive', 'teve', 'tivemos', 'tiveram', 'tivera', 'tiveramos', 'tenha', 'tenhamos', 'tenham', 'tivesse', 'tivessemos', 'tivessem', 'tiver', 'tivermos', 'tiverem', 'terei', 'tera', 'teremos', 'terao', 'teria', 'teriamos', 'teriam', 'q', 'n', 'vc', 'vcs']\n"
     ]
    }
   ],
   "source": [
    "import unicodedata\n",
    "from nltk.corpus import stopwords\n",
    "\n",
    "abbreviated_stopwords = ['q', 'n', 'vc', 'vcs']\n",
    "\n",
    "def remove_accent(string):\n",
    "    nfkd_form = unicodedata.normalize('NFKD', string)\n",
    "    return u\"\".join([c for c in nfkd_form if not unicodedata.combining(c)])\n",
    "\n",
    "stopwords = [remove_accent(x) for x in stopwords.words('portuguese')]\n",
    "[stopwords.append(x) for x in abbreviated_stopwords]\n",
    "\n",
    "print(stopwords)"
   ]
  },
  {
   "cell_type": "code",
   "execution_count": 7,
   "metadata": {},
   "outputs": [
    {
     "data": {
      "text/html": [
       "<div>\n",
       "<style scoped>\n",
       "    .dataframe tbody tr th:only-of-type {\n",
       "        vertical-align: middle;\n",
       "    }\n",
       "\n",
       "    .dataframe tbody tr th {\n",
       "        vertical-align: top;\n",
       "    }\n",
       "\n",
       "    .dataframe thead th {\n",
       "        text-align: right;\n",
       "    }\n",
       "</style>\n",
       "<table border=\"1\" class=\"dataframe\">\n",
       "  <thead>\n",
       "    <tr style=\"text-align: right;\">\n",
       "      <th></th>\n",
       "      <th>order_id</th>\n",
       "      <th>review_score</th>\n",
       "      <th>review_comment_title</th>\n",
       "      <th>review_comment_message</th>\n",
       "      <th>review_creation_date</th>\n",
       "      <th>review_answer_timestamp</th>\n",
       "      <th>review_comment_message_and_title</th>\n",
       "      <th>cleaned_comment_message</th>\n",
       "    </tr>\n",
       "    <tr>\n",
       "      <th>review_id</th>\n",
       "      <th></th>\n",
       "      <th></th>\n",
       "      <th></th>\n",
       "      <th></th>\n",
       "      <th></th>\n",
       "      <th></th>\n",
       "      <th></th>\n",
       "      <th></th>\n",
       "    </tr>\n",
       "  </thead>\n",
       "  <tbody>\n",
       "    <tr>\n",
       "      <th>e64fb393e7b32834bb789ff8bb30750e</th>\n",
       "      <td>658677c97b385a9be170737859d3511b</td>\n",
       "      <td>5</td>\n",
       "      <td>NaN</td>\n",
       "      <td>Recebi bem antes do prazo estipulado.</td>\n",
       "      <td>2017-04-21 00:00:00</td>\n",
       "      <td>2017-04-21 22:02:06</td>\n",
       "      <td>Recebi bem antes do prazo estipulado.</td>\n",
       "      <td>recebi bem antes prazo estipulado</td>\n",
       "    </tr>\n",
       "    <tr>\n",
       "      <th>f7c4243c7fe1938f181bec41a392bdeb</th>\n",
       "      <td>8e6bfb81e283fa7e4f11123a3fb894f1</td>\n",
       "      <td>5</td>\n",
       "      <td>NaN</td>\n",
       "      <td>Parabéns lojas lannister adorei comprar pela I...</td>\n",
       "      <td>2018-03-01 00:00:00</td>\n",
       "      <td>2018-03-02 10:26:53</td>\n",
       "      <td>Parabéns lojas lannister adorei comprar pela I...</td>\n",
       "      <td>parabens lojas lannister adorei comprar intern...</td>\n",
       "    </tr>\n",
       "    <tr>\n",
       "      <th>8670d52e15e00043ae7de4c01cc2fe06</th>\n",
       "      <td>b9bf720beb4ab3728760088589c62129</td>\n",
       "      <td>4</td>\n",
       "      <td>recomendo</td>\n",
       "      <td>aparelho eficiente. no site a marca do aparelh...</td>\n",
       "      <td>2018-05-22 00:00:00</td>\n",
       "      <td>2018-05-23 16:45:47</td>\n",
       "      <td>recomendo aparelho eficiente. no site a marca ...</td>\n",
       "      <td>recomendo aparelho eficiente site marca aparel...</td>\n",
       "    </tr>\n",
       "    <tr>\n",
       "      <th>4b49719c8a200003f700d3d986ea1a19</th>\n",
       "      <td>9d6f15f95d01e79bd1349cc208361f09</td>\n",
       "      <td>4</td>\n",
       "      <td>NaN</td>\n",
       "      <td>Mas um pouco ,travando...pelo valor ta Boa.\\r\\n</td>\n",
       "      <td>2018-02-16 00:00:00</td>\n",
       "      <td>2018-02-20 10:52:22</td>\n",
       "      <td>Mas um pouco ,travando...pelo valor ta Boa.\\r\\n</td>\n",
       "      <td>pouco travando pelo valor ta boa</td>\n",
       "    </tr>\n",
       "    <tr>\n",
       "      <th>3948b09f7c818e2d86c9a546758b2335</th>\n",
       "      <td>e51478e7e277a83743b6f9991dbfa3fb</td>\n",
       "      <td>5</td>\n",
       "      <td>Super recomendo</td>\n",
       "      <td>Vendedor confiável, produto ok e entrega antes...</td>\n",
       "      <td>2018-05-23 00:00:00</td>\n",
       "      <td>2018-05-24 03:00:01</td>\n",
       "      <td>Super recomendo Vendedor confiável, produto ok...</td>\n",
       "      <td>super recomendo vendedor confiavel produto ok ...</td>\n",
       "    </tr>\n",
       "    <tr>\n",
       "      <th>9314d6f9799f5bfba510cc7bcd468c01</th>\n",
       "      <td>0dacf04c5ad59fd5a0cc1faa07c34e39</td>\n",
       "      <td>2</td>\n",
       "      <td>NaN</td>\n",
       "      <td>GOSTARIA DE SABER O QUE HOUVE, SEMPRE RECEBI E...</td>\n",
       "      <td>2018-01-18 00:00:00</td>\n",
       "      <td>2018-01-20 21:25:45</td>\n",
       "      <td>GOSTARIA DE SABER O QUE HOUVE, SEMPRE RECEBI E...</td>\n",
       "      <td>gostaria saber houve sempre recebi compra agor...</td>\n",
       "    </tr>\n",
       "    <tr>\n",
       "      <th>373cbeecea8286a2b66c97b1b157ec46</th>\n",
       "      <td>583174fbe37d3d5f0d6661be3aad1786</td>\n",
       "      <td>1</td>\n",
       "      <td>Não chegou meu produto</td>\n",
       "      <td>Péssimo</td>\n",
       "      <td>2018-08-15 00:00:00</td>\n",
       "      <td>2018-08-15 04:10:37</td>\n",
       "      <td>Não chegou meu produto  Péssimo</td>\n",
       "      <td>chegou produto pessimo</td>\n",
       "    </tr>\n",
       "    <tr>\n",
       "      <th>d21bbc789670eab777d27372ab9094cc</th>\n",
       "      <td>4fc44d78867142c627497b60a7e0228a</td>\n",
       "      <td>5</td>\n",
       "      <td>Ótimo</td>\n",
       "      <td>Loja nota 10</td>\n",
       "      <td>2018-07-10 00:00:00</td>\n",
       "      <td>2018-07-11 14:10:25</td>\n",
       "      <td>Ótimo Loja nota 10</td>\n",
       "      <td>otimo loja nota 10</td>\n",
       "    </tr>\n",
       "    <tr>\n",
       "      <th>0e0190b9db53b689b285d3f3916f8441</th>\n",
       "      <td>79832b7cb59ac6f887088ffd686e1d5e</td>\n",
       "      <td>5</td>\n",
       "      <td>NaN</td>\n",
       "      <td>obrigado pela atençao amim dispensada</td>\n",
       "      <td>2017-12-01 00:00:00</td>\n",
       "      <td>2017-12-09 22:58:58</td>\n",
       "      <td>obrigado pela atençao amim dispensada</td>\n",
       "      <td>obrigado atencao amim dispensada</td>\n",
       "    </tr>\n",
       "    <tr>\n",
       "      <th>fe3db7c069d694bab50cc43463f91608</th>\n",
       "      <td>2ca73e2ff9e3a186ad1e1ffb9b1d9c10</td>\n",
       "      <td>5</td>\n",
       "      <td>NaN</td>\n",
       "      <td>A compra foi realizada facilmente.\\r\\nA entreg...</td>\n",
       "      <td>2018-03-23 00:00:00</td>\n",
       "      <td>2018-04-01 00:27:51</td>\n",
       "      <td>A compra foi realizada facilmente.\\r\\nA entreg...</td>\n",
       "      <td>compra realizada facilmente entrega efetuada a...</td>\n",
       "    </tr>\n",
       "  </tbody>\n",
       "</table>\n",
       "</div>"
      ],
      "text/plain": [
       "                                                          order_id  \\\n",
       "review_id                                                            \n",
       "e64fb393e7b32834bb789ff8bb30750e  658677c97b385a9be170737859d3511b   \n",
       "f7c4243c7fe1938f181bec41a392bdeb  8e6bfb81e283fa7e4f11123a3fb894f1   \n",
       "8670d52e15e00043ae7de4c01cc2fe06  b9bf720beb4ab3728760088589c62129   \n",
       "4b49719c8a200003f700d3d986ea1a19  9d6f15f95d01e79bd1349cc208361f09   \n",
       "3948b09f7c818e2d86c9a546758b2335  e51478e7e277a83743b6f9991dbfa3fb   \n",
       "9314d6f9799f5bfba510cc7bcd468c01  0dacf04c5ad59fd5a0cc1faa07c34e39   \n",
       "373cbeecea8286a2b66c97b1b157ec46  583174fbe37d3d5f0d6661be3aad1786   \n",
       "d21bbc789670eab777d27372ab9094cc  4fc44d78867142c627497b60a7e0228a   \n",
       "0e0190b9db53b689b285d3f3916f8441  79832b7cb59ac6f887088ffd686e1d5e   \n",
       "fe3db7c069d694bab50cc43463f91608  2ca73e2ff9e3a186ad1e1ffb9b1d9c10   \n",
       "\n",
       "                                  review_score     review_comment_title  \\\n",
       "review_id                                                                 \n",
       "e64fb393e7b32834bb789ff8bb30750e             5                      NaN   \n",
       "f7c4243c7fe1938f181bec41a392bdeb             5                      NaN   \n",
       "8670d52e15e00043ae7de4c01cc2fe06             4                recomendo   \n",
       "4b49719c8a200003f700d3d986ea1a19             4                      NaN   \n",
       "3948b09f7c818e2d86c9a546758b2335             5          Super recomendo   \n",
       "9314d6f9799f5bfba510cc7bcd468c01             2                      NaN   \n",
       "373cbeecea8286a2b66c97b1b157ec46             1  Não chegou meu produto    \n",
       "d21bbc789670eab777d27372ab9094cc             5                    Ótimo   \n",
       "0e0190b9db53b689b285d3f3916f8441             5                      NaN   \n",
       "fe3db7c069d694bab50cc43463f91608             5                      NaN   \n",
       "\n",
       "                                                             review_comment_message  \\\n",
       "review_id                                                                             \n",
       "e64fb393e7b32834bb789ff8bb30750e              Recebi bem antes do prazo estipulado.   \n",
       "f7c4243c7fe1938f181bec41a392bdeb  Parabéns lojas lannister adorei comprar pela I...   \n",
       "8670d52e15e00043ae7de4c01cc2fe06  aparelho eficiente. no site a marca do aparelh...   \n",
       "4b49719c8a200003f700d3d986ea1a19    Mas um pouco ,travando...pelo valor ta Boa.\\r\\n   \n",
       "3948b09f7c818e2d86c9a546758b2335  Vendedor confiável, produto ok e entrega antes...   \n",
       "9314d6f9799f5bfba510cc7bcd468c01  GOSTARIA DE SABER O QUE HOUVE, SEMPRE RECEBI E...   \n",
       "373cbeecea8286a2b66c97b1b157ec46                                            Péssimo   \n",
       "d21bbc789670eab777d27372ab9094cc                                       Loja nota 10   \n",
       "0e0190b9db53b689b285d3f3916f8441              obrigado pela atençao amim dispensada   \n",
       "fe3db7c069d694bab50cc43463f91608  A compra foi realizada facilmente.\\r\\nA entreg...   \n",
       "\n",
       "                                 review_creation_date review_answer_timestamp  \\\n",
       "review_id                                                                       \n",
       "e64fb393e7b32834bb789ff8bb30750e  2017-04-21 00:00:00     2017-04-21 22:02:06   \n",
       "f7c4243c7fe1938f181bec41a392bdeb  2018-03-01 00:00:00     2018-03-02 10:26:53   \n",
       "8670d52e15e00043ae7de4c01cc2fe06  2018-05-22 00:00:00     2018-05-23 16:45:47   \n",
       "4b49719c8a200003f700d3d986ea1a19  2018-02-16 00:00:00     2018-02-20 10:52:22   \n",
       "3948b09f7c818e2d86c9a546758b2335  2018-05-23 00:00:00     2018-05-24 03:00:01   \n",
       "9314d6f9799f5bfba510cc7bcd468c01  2018-01-18 00:00:00     2018-01-20 21:25:45   \n",
       "373cbeecea8286a2b66c97b1b157ec46  2018-08-15 00:00:00     2018-08-15 04:10:37   \n",
       "d21bbc789670eab777d27372ab9094cc  2018-07-10 00:00:00     2018-07-11 14:10:25   \n",
       "0e0190b9db53b689b285d3f3916f8441  2017-12-01 00:00:00     2017-12-09 22:58:58   \n",
       "fe3db7c069d694bab50cc43463f91608  2018-03-23 00:00:00     2018-04-01 00:27:51   \n",
       "\n",
       "                                                   review_comment_message_and_title  \\\n",
       "review_id                                                                             \n",
       "e64fb393e7b32834bb789ff8bb30750e              Recebi bem antes do prazo estipulado.   \n",
       "f7c4243c7fe1938f181bec41a392bdeb  Parabéns lojas lannister adorei comprar pela I...   \n",
       "8670d52e15e00043ae7de4c01cc2fe06  recomendo aparelho eficiente. no site a marca ...   \n",
       "4b49719c8a200003f700d3d986ea1a19    Mas um pouco ,travando...pelo valor ta Boa.\\r\\n   \n",
       "3948b09f7c818e2d86c9a546758b2335  Super recomendo Vendedor confiável, produto ok...   \n",
       "9314d6f9799f5bfba510cc7bcd468c01  GOSTARIA DE SABER O QUE HOUVE, SEMPRE RECEBI E...   \n",
       "373cbeecea8286a2b66c97b1b157ec46                    Não chegou meu produto  Péssimo   \n",
       "d21bbc789670eab777d27372ab9094cc                                 Ótimo Loja nota 10   \n",
       "0e0190b9db53b689b285d3f3916f8441              obrigado pela atençao amim dispensada   \n",
       "fe3db7c069d694bab50cc43463f91608  A compra foi realizada facilmente.\\r\\nA entreg...   \n",
       "\n",
       "                                                            cleaned_comment_message  \n",
       "review_id                                                                            \n",
       "e64fb393e7b32834bb789ff8bb30750e                  recebi bem antes prazo estipulado  \n",
       "f7c4243c7fe1938f181bec41a392bdeb  parabens lojas lannister adorei comprar intern...  \n",
       "8670d52e15e00043ae7de4c01cc2fe06  recomendo aparelho eficiente site marca aparel...  \n",
       "4b49719c8a200003f700d3d986ea1a19                   pouco travando pelo valor ta boa  \n",
       "3948b09f7c818e2d86c9a546758b2335  super recomendo vendedor confiavel produto ok ...  \n",
       "9314d6f9799f5bfba510cc7bcd468c01  gostaria saber houve sempre recebi compra agor...  \n",
       "373cbeecea8286a2b66c97b1b157ec46                             chegou produto pessimo  \n",
       "d21bbc789670eab777d27372ab9094cc                                 otimo loja nota 10  \n",
       "0e0190b9db53b689b285d3f3916f8441                   obrigado atencao amim dispensada  \n",
       "fe3db7c069d694bab50cc43463f91608  compra realizada facilmente entrega efetuada a...  "
      ]
     },
     "execution_count": 7,
     "metadata": {},
     "output_type": "execute_result"
    }
   ],
   "source": [
    "import re\n",
    "from nltk.tokenize import RegexpTokenizer\n",
    "\n",
    "REGEX_EMOJI = re.compile(\"[\"\n",
    "        u\"\\U0001F600-\\U0001F64F\"\n",
    "        u\"\\U0001F300-\\U0001F5FF\"\n",
    "        u\"\\U0001F680-\\U0001F6FF\"\n",
    "        u\"\\U0001F1E0-\\U0001F1FF\"\n",
    "                           \"]+\", flags=re.UNICODE)\n",
    "\n",
    "def remove_stopwords(string):\n",
    "    result_string = []    \n",
    "    for letter in string.split():\n",
    "        result_string.append(letter) if letter not in stopwords else None\n",
    "\n",
    "    return \" \".join(result_string)\n",
    "\n",
    "def remove_punctuation(string):\n",
    "    tokenizer = RegexpTokenizer(r'\\w+')\n",
    "    result_string = tokenizer.tokenize(string)\n",
    "    return \" \".join(result_string)\n",
    "\n",
    "def remove_emoji(string):\n",
    "    return REGEX_EMOJI.sub('', string)\n",
    "\n",
    "def clean_data(input_str):\n",
    "    input_str = input_str.lower()\n",
    "    input_str = remove_accent(input_str)\n",
    "    input_str = remove_emoji(input_str)\n",
    "    input_str = remove_stopwords(input_str)\n",
    "    input_str = remove_punctuation(input_str)\n",
    "    \n",
    "    return input_str\n",
    "\n",
    "df['cleaned_comment_message'] = df['review_comment_message_and_title'].apply(clean_data)\n",
    "\n",
    "df.head(10)"
   ]
  },
  {
   "cell_type": "code",
   "execution_count": 8,
   "metadata": {},
   "outputs": [
    {
     "name": "stdout",
     "output_type": "stream",
     "text": [
      "{'produto': 20089, 'prazo': 8666, 'entrega': 7170, 'recomendo': 6102, 'chegou': 5755, 'recebi': 5749, 'antes': 5709, 'bom': 5697, 'entregue': 4068, 'veio': 3444, 'otimo': 3336, 'bem': 3160, 'qualidade': 2915, 'comprei': 2906, 'loja': 2578}\n"
     ]
    },
    {
     "data": {
      "image/png": "[encoded data removed]",
      "text/plain": [
       "<Figure size 1008x1008 with 1 Axes>"
      ]
     },
     "metadata": {
      "needs_background": "light"
     },
     "output_type": "display_data"
    }
   ],
   "source": [
    "import matplotlib.pyplot as plt\n",
    "\n",
    "frequence = calculate_token_distribution(n_most_common_words, 'cleaned_comment_message')\n",
    "print(frequence)\n",
    "\n",
    "index = list(frequence.keys())\n",
    "frequence = [frequence.get(x) for x in index]\n",
    "bar_width = 0.45\n",
    "\n",
    "plt.figure(figsize=(14, 14))\n",
    "plt.bar(index, frequence, bar_width)\n",
    "plt.title('{} most common tokens of the dataset column cleaned_comment_message'.format(n_most_common_words))\n",
    "plt.ylabel('Frequence')\n",
    "plt.xlabel('Token')\n",
    "plt.show()"
   ]
  },
  {
   "cell_type": "markdown",
   "metadata": {},
   "source": [
    "# Classification"
   ]
  },
  {
   "cell_type": "markdown",
   "metadata": {},
   "source": [
    "## Sparse matrix of Vectorization"
   ]
  },
  {
   "cell_type": "code",
   "execution_count": 9,
   "metadata": {},
   "outputs": [],
   "source": [
    "from sklearn.model_selection import train_test_split\n",
    "from sklearn.feature_extraction.text import CountVectorizer\n",
    "\n",
    "target = df['review_score'].values\n",
    "data = df['cleaned_comment_message'].values\n",
    "\n",
    "count_vectorizer = CountVectorizer()\n",
    "count_vectorizer.fit(data)\n",
    "\n",
    "data = count_vectorizer.transform(data)\n",
    "\n",
    "X_train, X_test, y_train, y_test = train_test_split(\n",
    "    data, target, test_size=0.30, random_state=42\n",
    ")"
   ]
  },
  {
   "cell_type": "code",
   "execution_count": 10,
   "metadata": {},
   "outputs": [
    {
     "name": "stdout",
     "output_type": "stream",
     "text": [
      "Multinomial Naive Bayes\n",
      "\n",
      "\n",
      "              precision    recall  f1-score   support\n",
      "\n",
      "           1       0.64      0.84      0.73      2721\n",
      "           2       0.21      0.02      0.04       718\n",
      "           3       0.29      0.12      0.17      1091\n",
      "           4       0.32      0.13      0.19      1827\n",
      "           5       0.74      0.92      0.82      6169\n",
      "\n",
      "   micro avg       0.67      0.67      0.67     12526\n",
      "   macro avg       0.44      0.41      0.39     12526\n",
      "weighted avg       0.59      0.67      0.61     12526\n",
      "\n"
     ]
    }
   ],
   "source": [
    "from sklearn.naive_bayes import MultinomialNB\n",
    "from sklearn.metrics import classification_report\n",
    "\n",
    "unique_keys = sorted(df['review_score'].unique())\n",
    "review_score_percentages = np.array([list(y_train).count(i)/len(list(y_train)) for i in unique_keys])\n",
    "\n",
    "mnnb = MultinomialNB(class_prior=review_score_percentages).fit(X_train, y_train)\n",
    "\n",
    "y_pred = mnnb.predict(X_test)\n",
    "\n",
    "print(\"Multinomial Naive Bayes\\n\\n\")\n",
    "\n",
    "multinomial_naive_bayes_report = classification_report(y_test, y_pred, output_dict=True)\n",
    "print(classification_report(y_test, y_pred))"
   ]
  },
  {
   "cell_type": "code",
   "execution_count": 11,
   "metadata": {},
   "outputs": [
    {
     "name": "stdout",
     "output_type": "stream",
     "text": [
      "Logistic Regression\n",
      "\n",
      "\n",
      "              precision    recall  f1-score   support\n",
      "\n",
      "           1       0.64      0.86      0.73      2721\n",
      "           2       0.09      0.00      0.01       718\n",
      "           3       0.30      0.09      0.13      1091\n",
      "           4       0.36      0.08      0.13      1827\n",
      "           5       0.72      0.95      0.82      6169\n",
      "\n",
      "   micro avg       0.67      0.67      0.67     12526\n",
      "   macro avg       0.42      0.39      0.36     12526\n",
      "weighted avg       0.58      0.67      0.59     12526\n",
      "\n"
     ]
    }
   ],
   "source": [
    "from sklearn.linear_model import LogisticRegression\n",
    "from sklearn.metrics import classification_report\n",
    "\n",
    "print(\"Logistic Regression\\n\\n\")\n",
    "\n",
    "c = 0.05\n",
    "lr = LogisticRegression(C=c, solver='lbfgs', multi_class='auto')\n",
    "lr.fit(X_train, y_train)\n",
    "\n",
    "y_pred = lr.predict(X_test)\n",
    "\n",
    "logistic_regression_report = classification_report(y_test, y_pred, output_dict=True)\n",
    "print(classification_report(y_test, y_pred))"
   ]
  },
  {
   "cell_type": "markdown",
   "metadata": {},
   "source": [
    "## Plot metrics"
   ]
  },
  {
   "cell_type": "code",
   "execution_count": 12,
   "metadata": {},
   "outputs": [
    {
     "data": {
      "image/png": "[encoded data removed]",
      "text/plain": [
       "<Figure size 432x288 with 1 Axes>"
      ]
     },
     "metadata": {
      "needs_background": "light"
     },
     "output_type": "display_data"
    },
    {
     "data": {
      "image/png": "[encoded data removed]",
      "text/plain": [
       "<Figure size 432x288 with 1 Axes>"
      ]
     },
     "metadata": {
      "needs_background": "light"
     },
     "output_type": "display_data"
    },
    {
     "data": {
      "image/png": "[encoded data removed]",
      "text/plain": [
       "<Figure size 432x288 with 1 Axes>"
      ]
     },
     "metadata": {
      "needs_background": "light"
     },
     "output_type": "display_data"
    }
   ],
   "source": [
    "import matplotlib.pyplot as plt\n",
    "\n",
    "def capture_reports(logistic, naive_bayes, metric):\n",
    "\n",
    "    logistic.pop('micro avg', '')\n",
    "    logistic.pop('macro avg', '')\n",
    "    logistic.pop('weighted avg', '')\n",
    "\n",
    "    naive_bayes.pop('micro avg', '')\n",
    "    naive_bayes.pop('macro avg', '')\n",
    "    naive_bayes.pop('weighted avg', '')\n",
    "\n",
    "    logistic_metrics = []\n",
    "    naive_bayes_metrics = []\n",
    "    for x, y in zip(logistic_regression_report.items(), multinomial_naive_bayes_report.items()):\n",
    "        logistic_metrics.append(x[1].get(metric, 0))\n",
    "        naive_bayes_metrics.append(y[1].get(metric, 0))\n",
    "        \n",
    "    return logistic_metrics, naive_bayes_metrics\n",
    "\n",
    "def plot_metrics(logistic_metrics, naive_bayes_metrics, metric):\n",
    "    fig, ax = plt.subplots()\n",
    "    \n",
    "    keys = ['1', '2', '3', '4', '5']\n",
    "\n",
    "    ind = np.arange(len(keys))\n",
    "    width = 0.35\n",
    "    p1 = ax.bar(ind, logistic_metrics, width, color='b')\n",
    "\n",
    "    p2 = ax.bar(ind + width, naive_bayes_metrics, width, color='y')\n",
    "\n",
    "    ax.set_title('{} metrics by group'.format(metric))\n",
    "    ax.set_xticks(ind + width / 2)\n",
    "    ax.set_xticklabels(keys)\n",
    "\n",
    "    ax.legend((p1[0], p2[0]), ('logistic_regression_{}'.format(metric), 'multinomial_naive_bayes_{}'.format(metric)), bbox_to_anchor=(1.1, 1.05))\n",
    "    ax.autoscale_view()\n",
    "\n",
    "    plt.show()\n",
    "\n",
    "reports = capture_reports(logistic_regression_report, multinomial_naive_bayes_report, 'precision')\n",
    "plot_metrics(reports[0], reports[1], 'precision')\n",
    "\n",
    "reports = capture_reports(logistic_regression_report, multinomial_naive_bayes_report, 'recall')\n",
    "plot_metrics(reports[0], reports[1], 'recall')\n",
    "\n",
    "reports = capture_reports(logistic_regression_report, multinomial_naive_bayes_report, 'f1-score')\n",
    "plot_metrics(reports[0], reports[1], 'f1-score')"
   ]
  },
  {
   "cell_type": "markdown",
   "metadata": {},
   "source": [
    "## Spliting data per group of unique keys of review_score"
   ]
  },
  {
   "cell_type": "code",
   "execution_count": 13,
   "metadata": {},
   "outputs": [
    {
     "name": "stdout",
     "output_type": "stream",
     "text": [
      "True\n"
     ]
    }
   ],
   "source": [
    "import numpy as np\n",
    "from sklearn.model_selection import train_test_split\n",
    "\n",
    "unique_review_score = df['review_score'].unique()\n",
    "\n",
    "scores = {}\n",
    "for score in unique_review_score:\n",
    "    scores.update({str(score): df.loc[df['review_score'] == score]})\n",
    "\n",
    "X_train, X_test, y_train, y_test = np.ndarray([0]), np.ndarray([0]), np.ndarray([0]), np.ndarray([0])\n",
    "\n",
    "for key, value in scores.items():    \n",
    "    score_x_train, score_x_test, score_y_train, score_y_test = train_test_split(\n",
    "        value['cleaned_comment_message'].values, value['review_score'].values, test_size=0.30, random_state=42\n",
    "    )\n",
    "    X_train = np.concatenate((X_train, score_x_train), axis=0)\n",
    "    X_test = np.concatenate((X_test, score_x_test), axis=0)\n",
    "    y_train = np.concatenate((y_train, score_y_train), axis=0)\n",
    "    y_test = np.concatenate((y_test, score_y_test), axis=0)\n",
    "\n",
    "X_train = count_vectorizer.transform(X_train)\n",
    "X_test = count_vectorizer.transform(X_test)\n",
    "\n",
    "X_train, _, y_train, _ = train_test_split(\n",
    "    X_train, y_train, test_size=0.0, random_state=42)\n",
    "\n",
    "_, X_test, _, y_test = train_test_split(\n",
    "    X_test, y_test, test_size=0.99999, random_state=42)\n",
    "\n",
    "print(df.shape[0] == X_train.shape[0] + X_test.shape[0])"
   ]
  },
  {
   "cell_type": "code",
   "execution_count": 14,
   "metadata": {},
   "outputs": [
    {
     "name": "stdout",
     "output_type": "stream",
     "text": [
      "Multinomial Naive Bayes\n",
      "\n",
      "\n",
      "              precision    recall  f1-score   support\n",
      "\n",
      "         1.0       0.65      0.84      0.73      2754\n",
      "         2.0       0.18      0.02      0.04       669\n",
      "         3.0       0.30      0.13      0.18      1100\n",
      "         4.0       0.31      0.13      0.18      1811\n",
      "         5.0       0.75      0.93      0.83      6194\n",
      "\n",
      "   micro avg       0.67      0.67      0.67     12528\n",
      "   macro avg       0.44      0.41      0.39     12528\n",
      "weighted avg       0.59      0.67      0.62     12528\n",
      "\n"
     ]
    }
   ],
   "source": [
    "from sklearn.naive_bayes import MultinomialNB\n",
    "from sklearn.metrics import classification_report\n",
    "\n",
    "unique_keys = sorted(df['review_score'].unique())\n",
    "review_score_percentages = np.array([list(y_train).count(i)/len(list(y_train)) for i in unique_keys])\n",
    "\n",
    "mnnb = MultinomialNB(class_prior=review_score_percentages).fit(X_train, y_train)\n",
    "\n",
    "y_pred = mnnb.predict(X_test)\n",
    "\n",
    "print(\"Multinomial Naive Bayes\\n\\n\")\n",
    "\n",
    "multinomial_naive_bayes_report = classification_report(y_test, y_pred, output_dict=True)\n",
    "print(classification_report(y_test, y_pred))"
   ]
  },
  {
   "cell_type": "code",
   "execution_count": 15,
   "metadata": {},
   "outputs": [
    {
     "name": "stdout",
     "output_type": "stream",
     "text": [
      "Logistic Regression\n",
      "\n",
      "\n",
      "              precision    recall  f1-score   support\n",
      "\n",
      "         1.0       0.65      0.85      0.74      2754\n",
      "         2.0       0.12      0.00      0.01       669\n",
      "         3.0       0.30      0.10      0.15      1100\n",
      "         4.0       0.34      0.07      0.12      1811\n",
      "         5.0       0.72      0.95      0.82      6194\n",
      "\n",
      "   micro avg       0.68      0.68      0.68     12528\n",
      "   macro avg       0.43      0.40      0.37     12528\n",
      "weighted avg       0.58      0.68      0.60     12528\n",
      "\n"
     ]
    }
   ],
   "source": [
    "from sklearn.linear_model import LogisticRegression\n",
    "from sklearn.metrics import classification_report\n",
    "\n",
    "print(\"Logistic Regression\\n\\n\")\n",
    "\n",
    "c = 0.05\n",
    "lr = LogisticRegression(C=c, solver='lbfgs', multi_class='auto')\n",
    "lr.fit(X_train, y_train)\n",
    "\n",
    "y_pred = lr.predict(X_test)\n",
    "\n",
    "logistic_regression_report = classification_report(y_test, y_pred, output_dict=True)\n",
    "print(classification_report(y_test, y_pred))"
   ]
  },
  {
   "cell_type": "code",
   "execution_count": 16,
   "metadata": {},
   "outputs": [
    {
     "data": {
      "image/png": "[encoded data removed]",
      "text/plain": [
       "<Figure size 432x288 with 1 Axes>"
      ]
     },
     "metadata": {
      "needs_background": "light"
     },
     "output_type": "display_data"
    },
    {
     "data": {
      "image/png": "[encoded data removed]",
      "text/plain": [
       "<Figure size 432x288 with 1 Axes>"
      ]
     },
     "metadata": {
      "needs_background": "light"
     },
     "output_type": "display_data"
    },
    {
     "data": {
      "image/png": "[encoded data removed]",
      "text/plain": [
       "<Figure size 432x288 with 1 Axes>"
      ]
     },
     "metadata": {
      "needs_background": "light"
     },
     "output_type": "display_data"
    }
   ],
   "source": [
    "reports = capture_reports(logistic_regression_report, multinomial_naive_bayes_report, 'precision')\n",
    "plot_metrics(reports[0], reports[1], 'precision')\n",
    "\n",
    "reports = capture_reports(logistic_regression_report, multinomial_naive_bayes_report, 'recall')\n",
    "plot_metrics(reports[0], reports[1], 'recall')\n",
    "\n",
    "reports = capture_reports(logistic_regression_report, multinomial_naive_bayes_report, 'f1-score')\n",
    "plot_metrics(reports[0], reports[1], 'f1-score')"
   ]
  }
 ],
 "metadata": {
  "kernelspec": {
   "display_name": "Python 3",
   "language": "python",
   "name": "python3"
  },
  "language_info": {
   "codemirror_mode": {
    "name": "ipython",
    "version": 3
   },
   "file_extension": ".py",
   "mimetype": "text/x-python",
   "name": "python",
   "nbconvert_exporter": "python",
   "pygments_lexer": "ipython3",
   "version": "3.6.2"
  }
 },
 "nbformat": 4,
 "nbformat_minor": 2
}
